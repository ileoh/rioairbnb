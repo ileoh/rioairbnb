{
  "nbformat": 4,
  "nbformat_minor": 0,
  "metadata": {
    "colab": {
      "name": "RioAirBnB-Cognitivoai.ipynb",
      "provenance": [],
      "authorship_tag": "ABX9TyMcXyw1u7IJCRs4s7A+Eynm",
      "include_colab_link": true
    },
    "kernelspec": {
      "name": "python3",
      "display_name": "Python 3"
    }
  },
  "cells": [
    {
      "cell_type": "markdown",
      "metadata": {
        "id": "view-in-github",
        "colab_type": "text"
      },
      "source": [
        "<a href=\"https://colab.research.google.com/github/ileoh/rioairbnb/blob/main/RioAirBnB_Cognitivoai.ipynb\" target=\"_parent\"><img src=\"https://colab.research.google.com/assets/colab-badge.svg\" alt=\"Open In Colab\"/></a>"
      ]
    },
    {
      "cell_type": "markdown",
      "metadata": {
        "id": "Hsu3T8rsEq61"
      },
      "source": [
        "# Teste Data Science - Cognitivo.ai"
      ]
    },
    {
      "cell_type": "markdown",
      "metadata": {
        "id": "wh_cDCfwD1-P"
      },
      "source": [
        "# Contexto\n",
        "- O trabalho abaixo consiste em:\n",
        "  - Leitura e visão geral dos dados\n",
        "  - Pré processamento\n",
        "    - Escolha das variáveis, limpeza dos preços, manipulação de missing e engenharia de atributos (feature engineering)\n",
        "  - Análise Exploratória (EDA)\n",
        "  - Modelagem (XGboost)\n",
        "  - Resultados\n"
      ]
    },
    {
      "cell_type": "markdown",
      "metadata": {
        "id": "x3mUP7izctu_"
      },
      "source": [
        "## Importaçao dos dados e das bibliotecas"
      ]
    },
    {
      "cell_type": "code",
      "metadata": {
        "id": "KxCRBBtkaVH6"
      },
      "source": [
        "import pandas as pd\n",
        "import numpy as np\n",
        "\n",
        "import matplotlib.pyplot as plt\n",
        "plt.style.use('seaborn')\n",
        "import seaborn as sns\n",
        "\n",
        "import re\n",
        "import xgboost as xgb\n",
        "\n",
        "import warnings\n",
        "warnings.filterwarnings(\"ignore\")"
      ],
      "execution_count": 1,
      "outputs": []
    },
    {
      "cell_type": "code",
      "metadata": {
        "colab": {
          "base_uri": "https://localhost:8080/"
        },
        "id": "E4dUtaCec1pQ",
        "outputId": "5ae212ed-35b5-43fc-e164-c05356ea4791"
      },
      "source": [
        "from google.colab import drive\n",
        "drive.mount('/content/drive')"
      ],
      "execution_count": 2,
      "outputs": [
        {
          "output_type": "stream",
          "text": [
            "Mounted at /content/drive\n"
          ],
          "name": "stdout"
        }
      ]
    },
    {
      "cell_type": "code",
      "metadata": {
        "colab": {
          "base_uri": "https://localhost:8080/"
        },
        "id": "8jk6papicwlu",
        "outputId": "5d6a3870-4c50-4eef-a41f-5ac2615bfe3b"
      },
      "source": [
        "df_initial = pd.read_csv('/content/drive/MyDrive/2021/Teste cognitivo ai/listings 2.csv')\n",
        "\n",
        "# checking shape\n",
        "print(\"O dataset possui {} linhas e {} colunas.\".format(*df_initial.shape))\n",
        "\n",
        "# ... and duplicates\n",
        "print(\"Ele possui {} duplicados.\".format(df_initial.duplicated().sum()))"
      ],
      "execution_count": 3,
      "outputs": [
        {
          "output_type": "stream",
          "text": [
            "O dataset possui 26615 linhas e 74 colunas.\n",
            "Ele possui 0 duplicados.\n"
          ],
          "name": "stdout"
        }
      ]
    },
    {
      "cell_type": "code",
      "metadata": {
        "colab": {
          "base_uri": "https://localhost:8080/",
          "height": 168
        },
        "id": "tk-rlo8kFU92",
        "outputId": "fe64ed68-037f-49d2-9cfc-4c46de8cf1ae"
      },
      "source": [
        "df_initial.head(1)  # visao básica do dataset"
      ],
      "execution_count": 4,
      "outputs": [
        {
          "output_type": "execute_result",
          "data": {
            "text/html": [
              "<div>\n",
              "<style scoped>\n",
              "    .dataframe tbody tr th:only-of-type {\n",
              "        vertical-align: middle;\n",
              "    }\n",
              "\n",
              "    .dataframe tbody tr th {\n",
              "        vertical-align: top;\n",
              "    }\n",
              "\n",
              "    .dataframe thead th {\n",
              "        text-align: right;\n",
              "    }\n",
              "</style>\n",
              "<table border=\"1\" class=\"dataframe\">\n",
              "  <thead>\n",
              "    <tr style=\"text-align: right;\">\n",
              "      <th></th>\n",
              "      <th>id</th>\n",
              "      <th>listing_url</th>\n",
              "      <th>scrape_id</th>\n",
              "      <th>last_scraped</th>\n",
              "      <th>name</th>\n",
              "      <th>description</th>\n",
              "      <th>neighborhood_overview</th>\n",
              "      <th>picture_url</th>\n",
              "      <th>host_id</th>\n",
              "      <th>host_url</th>\n",
              "      <th>host_name</th>\n",
              "      <th>host_since</th>\n",
              "      <th>host_location</th>\n",
              "      <th>host_about</th>\n",
              "      <th>host_response_time</th>\n",
              "      <th>host_response_rate</th>\n",
              "      <th>host_acceptance_rate</th>\n",
              "      <th>host_is_superhost</th>\n",
              "      <th>host_thumbnail_url</th>\n",
              "      <th>host_picture_url</th>\n",
              "      <th>host_neighbourhood</th>\n",
              "      <th>host_listings_count</th>\n",
              "      <th>host_total_listings_count</th>\n",
              "      <th>host_verifications</th>\n",
              "      <th>host_has_profile_pic</th>\n",
              "      <th>host_identity_verified</th>\n",
              "      <th>neighbourhood</th>\n",
              "      <th>neighbourhood_cleansed</th>\n",
              "      <th>neighbourhood_group_cleansed</th>\n",
              "      <th>latitude</th>\n",
              "      <th>longitude</th>\n",
              "      <th>property_type</th>\n",
              "      <th>room_type</th>\n",
              "      <th>accommodates</th>\n",
              "      <th>bathrooms</th>\n",
              "      <th>bathrooms_text</th>\n",
              "      <th>bedrooms</th>\n",
              "      <th>beds</th>\n",
              "      <th>amenities</th>\n",
              "      <th>price</th>\n",
              "      <th>minimum_nights</th>\n",
              "      <th>maximum_nights</th>\n",
              "      <th>minimum_minimum_nights</th>\n",
              "      <th>maximum_minimum_nights</th>\n",
              "      <th>minimum_maximum_nights</th>\n",
              "      <th>maximum_maximum_nights</th>\n",
              "      <th>minimum_nights_avg_ntm</th>\n",
              "      <th>maximum_nights_avg_ntm</th>\n",
              "      <th>calendar_updated</th>\n",
              "      <th>has_availability</th>\n",
              "      <th>availability_30</th>\n",
              "      <th>availability_60</th>\n",
              "      <th>availability_90</th>\n",
              "      <th>availability_365</th>\n",
              "      <th>calendar_last_scraped</th>\n",
              "      <th>number_of_reviews</th>\n",
              "      <th>number_of_reviews_ltm</th>\n",
              "      <th>number_of_reviews_l30d</th>\n",
              "      <th>first_review</th>\n",
              "      <th>last_review</th>\n",
              "      <th>review_scores_rating</th>\n",
              "      <th>review_scores_accuracy</th>\n",
              "      <th>review_scores_cleanliness</th>\n",
              "      <th>review_scores_checkin</th>\n",
              "      <th>review_scores_communication</th>\n",
              "      <th>review_scores_location</th>\n",
              "      <th>review_scores_value</th>\n",
              "      <th>license</th>\n",
              "      <th>instant_bookable</th>\n",
              "      <th>calculated_host_listings_count</th>\n",
              "      <th>calculated_host_listings_count_entire_homes</th>\n",
              "      <th>calculated_host_listings_count_private_rooms</th>\n",
              "      <th>calculated_host_listings_count_shared_rooms</th>\n",
              "      <th>reviews_per_month</th>\n",
              "    </tr>\n",
              "  </thead>\n",
              "  <tbody>\n",
              "    <tr>\n",
              "      <th>0</th>\n",
              "      <td>17878</td>\n",
              "      <td>https://www.airbnb.com/rooms/17878</td>\n",
              "      <td>20210222161029</td>\n",
              "      <td>2021-02-23</td>\n",
              "      <td>Very Nice 2Br in Copacabana w. balcony, fast WiFi</td>\n",
              "      <td>Discounts for long term stays. &lt;br /&gt;- Large b...</td>\n",
              "      <td>This is the one of the bests spots in Rio. Bec...</td>\n",
              "      <td>https://a0.muscache.com/pictures/65320518/3069...</td>\n",
              "      <td>68997</td>\n",
              "      <td>https://www.airbnb.com/users/show/68997</td>\n",
              "      <td>Matthias</td>\n",
              "      <td>2010-01-08</td>\n",
              "      <td>Rio de Janeiro, State of Rio de Janeiro, Brazil</td>\n",
              "      <td>I  am a  journalist/writer. Lived for 15 years...</td>\n",
              "      <td>within an hour</td>\n",
              "      <td>100%</td>\n",
              "      <td>100%</td>\n",
              "      <td>t</td>\n",
              "      <td>https://a0.muscache.com/im/pictures/user/67b13...</td>\n",
              "      <td>https://a0.muscache.com/im/pictures/user/67b13...</td>\n",
              "      <td>Copacabana</td>\n",
              "      <td>2.0</td>\n",
              "      <td>2.0</td>\n",
              "      <td>['email', 'phone', 'reviews', 'jumio', 'offlin...</td>\n",
              "      <td>t</td>\n",
              "      <td>t</td>\n",
              "      <td>Rio de Janeiro, Brazil</td>\n",
              "      <td>Copacabana</td>\n",
              "      <td>NaN</td>\n",
              "      <td>-22.96592</td>\n",
              "      <td>-43.17896</td>\n",
              "      <td>Entire condominium</td>\n",
              "      <td>Entire home/apt</td>\n",
              "      <td>5</td>\n",
              "      <td>NaN</td>\n",
              "      <td>1 bath</td>\n",
              "      <td>2.0</td>\n",
              "      <td>2.0</td>\n",
              "      <td>[\"Air conditioning\", \"Essentials\", \"Luggage dr...</td>\n",
              "      <td>$221.00</td>\n",
              "      <td>5</td>\n",
              "      <td>180</td>\n",
              "      <td>5.0</td>\n",
              "      <td>5.0</td>\n",
              "      <td>1125.0</td>\n",
              "      <td>1125.0</td>\n",
              "      <td>5.0</td>\n",
              "      <td>1125.0</td>\n",
              "      <td>NaN</td>\n",
              "      <td>t</td>\n",
              "      <td>0</td>\n",
              "      <td>8</td>\n",
              "      <td>38</td>\n",
              "      <td>304</td>\n",
              "      <td>2021-02-23</td>\n",
              "      <td>260</td>\n",
              "      <td>12</td>\n",
              "      <td>2</td>\n",
              "      <td>2010-07-15</td>\n",
              "      <td>2021-02-08</td>\n",
              "      <td>94.0</td>\n",
              "      <td>9.0</td>\n",
              "      <td>9.0</td>\n",
              "      <td>10.0</td>\n",
              "      <td>10.0</td>\n",
              "      <td>10.0</td>\n",
              "      <td>9.0</td>\n",
              "      <td>NaN</td>\n",
              "      <td>t</td>\n",
              "      <td>1</td>\n",
              "      <td>1</td>\n",
              "      <td>0</td>\n",
              "      <td>0</td>\n",
              "      <td>2.01</td>\n",
              "    </tr>\n",
              "  </tbody>\n",
              "</table>\n",
              "</div>"
            ],
            "text/plain": [
              "      id  ... reviews_per_month\n",
              "0  17878  ...              2.01\n",
              "\n",
              "[1 rows x 74 columns]"
            ]
          },
          "metadata": {
            "tags": []
          },
          "execution_count": 4
        }
      ]
    },
    {
      "cell_type": "code",
      "metadata": {
        "colab": {
          "base_uri": "https://localhost:8080/"
        },
        "id": "j6gurcoxdxlC",
        "outputId": "7ab20f04-5d62-4b3a-f369-d83df6620c83"
      },
      "source": [
        "# análise das colunas que temos\n",
        "df_initial.columns"
      ],
      "execution_count": 5,
      "outputs": [
        {
          "output_type": "execute_result",
          "data": {
            "text/plain": [
              "Index(['id', 'listing_url', 'scrape_id', 'last_scraped', 'name', 'description',\n",
              "       'neighborhood_overview', 'picture_url', 'host_id', 'host_url',\n",
              "       'host_name', 'host_since', 'host_location', 'host_about',\n",
              "       'host_response_time', 'host_response_rate', 'host_acceptance_rate',\n",
              "       'host_is_superhost', 'host_thumbnail_url', 'host_picture_url',\n",
              "       'host_neighbourhood', 'host_listings_count',\n",
              "       'host_total_listings_count', 'host_verifications',\n",
              "       'host_has_profile_pic', 'host_identity_verified', 'neighbourhood',\n",
              "       'neighbourhood_cleansed', 'neighbourhood_group_cleansed', 'latitude',\n",
              "       'longitude', 'property_type', 'room_type', 'accommodates', 'bathrooms',\n",
              "       'bathrooms_text', 'bedrooms', 'beds', 'amenities', 'price',\n",
              "       'minimum_nights', 'maximum_nights', 'minimum_minimum_nights',\n",
              "       'maximum_minimum_nights', 'minimum_maximum_nights',\n",
              "       'maximum_maximum_nights', 'minimum_nights_avg_ntm',\n",
              "       'maximum_nights_avg_ntm', 'calendar_updated', 'has_availability',\n",
              "       'availability_30', 'availability_60', 'availability_90',\n",
              "       'availability_365', 'calendar_last_scraped', 'number_of_reviews',\n",
              "       'number_of_reviews_ltm', 'number_of_reviews_l30d', 'first_review',\n",
              "       'last_review', 'review_scores_rating', 'review_scores_accuracy',\n",
              "       'review_scores_cleanliness', 'review_scores_checkin',\n",
              "       'review_scores_communication', 'review_scores_location',\n",
              "       'review_scores_value', 'license', 'instant_bookable',\n",
              "       'calculated_host_listings_count',\n",
              "       'calculated_host_listings_count_entire_homes',\n",
              "       'calculated_host_listings_count_private_rooms',\n",
              "       'calculated_host_listings_count_shared_rooms', 'reviews_per_month'],\n",
              "      dtype='object')"
            ]
          },
          "metadata": {
            "tags": []
          },
          "execution_count": 5
        }
      ]
    },
    {
      "cell_type": "markdown",
      "metadata": {
        "id": "Y--4Pmy1ee5T"
      },
      "source": [
        "## Pre-processamento de dados"
      ]
    },
    {
      "cell_type": "markdown",
      "metadata": {
        "id": "q-5QxC9cpu2J"
      },
      "source": [
        "- Escolha de variaveis adequadas"
      ]
    },
    {
      "cell_type": "code",
      "metadata": {
        "colab": {
          "base_uri": "https://localhost:8080/"
        },
        "id": "YUQStxWneXb_",
        "outputId": "ffbb370d-8f5a-4571-9dfb-8713a61d0fd5"
      },
      "source": [
        "# definindo as variáveis que desejamos continuar\n",
        "columns_to_keep = ['id', 'description', 'host_has_profile_pic', 'neighbourhood_group_cleansed', \n",
        "                   'latitude', 'longitude', 'property_type', 'room_type', 'accommodates', 'bathrooms',  \n",
        "                   'bedrooms', 'amenities', 'price', \n",
        "                      'minimum_nights',  \n",
        "                   'instant_bookable']\n",
        "\n",
        "df_raw = df_initial[columns_to_keep].set_index('id')\n",
        "print(\"O dataset tem {} linhas e {} colunas - após dropar colunas irrelevantes.\".format(*df_raw.shape))"
      ],
      "execution_count": 6,
      "outputs": [
        {
          "output_type": "stream",
          "text": [
            "O dataset tem 26615 linhas e 14 colunas - após dropar colunas irrelevantes.\n"
          ],
          "name": "stdout"
        }
      ]
    },
    {
      "cell_type": "markdown",
      "metadata": {
        "id": "pysr5JbipxXG"
      },
      "source": [
        "- Estudando a base escolhida"
      ]
    },
    {
      "cell_type": "code",
      "metadata": {
        "colab": {
          "base_uri": "https://localhost:8080/",
          "height": 235
        },
        "id": "aQ7i57MlpqIM",
        "outputId": "72a3beab-2244-4d40-a8f4-64d4b4cc2ca8"
      },
      "source": [
        "df_raw.head()"
      ],
      "execution_count": 7,
      "outputs": [
        {
          "output_type": "execute_result",
          "data": {
            "text/html": [
              "<div>\n",
              "<style scoped>\n",
              "    .dataframe tbody tr th:only-of-type {\n",
              "        vertical-align: middle;\n",
              "    }\n",
              "\n",
              "    .dataframe tbody tr th {\n",
              "        vertical-align: top;\n",
              "    }\n",
              "\n",
              "    .dataframe thead th {\n",
              "        text-align: right;\n",
              "    }\n",
              "</style>\n",
              "<table border=\"1\" class=\"dataframe\">\n",
              "  <thead>\n",
              "    <tr style=\"text-align: right;\">\n",
              "      <th></th>\n",
              "      <th>description</th>\n",
              "      <th>host_has_profile_pic</th>\n",
              "      <th>neighbourhood_group_cleansed</th>\n",
              "      <th>latitude</th>\n",
              "      <th>longitude</th>\n",
              "      <th>property_type</th>\n",
              "      <th>room_type</th>\n",
              "      <th>accommodates</th>\n",
              "      <th>bathrooms</th>\n",
              "      <th>bedrooms</th>\n",
              "      <th>amenities</th>\n",
              "      <th>price</th>\n",
              "      <th>minimum_nights</th>\n",
              "      <th>instant_bookable</th>\n",
              "    </tr>\n",
              "    <tr>\n",
              "      <th>id</th>\n",
              "      <th></th>\n",
              "      <th></th>\n",
              "      <th></th>\n",
              "      <th></th>\n",
              "      <th></th>\n",
              "      <th></th>\n",
              "      <th></th>\n",
              "      <th></th>\n",
              "      <th></th>\n",
              "      <th></th>\n",
              "      <th></th>\n",
              "      <th></th>\n",
              "      <th></th>\n",
              "      <th></th>\n",
              "    </tr>\n",
              "  </thead>\n",
              "  <tbody>\n",
              "    <tr>\n",
              "      <th>17878</th>\n",
              "      <td>Discounts for long term stays. &lt;br /&gt;- Large b...</td>\n",
              "      <td>t</td>\n",
              "      <td>NaN</td>\n",
              "      <td>-22.96592</td>\n",
              "      <td>-43.17896</td>\n",
              "      <td>Entire condominium</td>\n",
              "      <td>Entire home/apt</td>\n",
              "      <td>5</td>\n",
              "      <td>NaN</td>\n",
              "      <td>2.0</td>\n",
              "      <td>[\"Air conditioning\", \"Essentials\", \"Luggage dr...</td>\n",
              "      <td>$221.00</td>\n",
              "      <td>5</td>\n",
              "      <td>t</td>\n",
              "    </tr>\n",
              "    <tr>\n",
              "      <th>24480</th>\n",
              "      <td>My studio is located in the best  of Ipanema. ...</td>\n",
              "      <td>t</td>\n",
              "      <td>NaN</td>\n",
              "      <td>-22.98570</td>\n",
              "      <td>-43.20193</td>\n",
              "      <td>Entire apartment</td>\n",
              "      <td>Entire home/apt</td>\n",
              "      <td>2</td>\n",
              "      <td>NaN</td>\n",
              "      <td>1.0</td>\n",
              "      <td>[\"Extra pillows and blankets\", \"Air conditioni...</td>\n",
              "      <td>$307.00</td>\n",
              "      <td>3</td>\n",
              "      <td>f</td>\n",
              "    </tr>\n",
              "    <tr>\n",
              "      <th>25026</th>\n",
              "      <td>Our apartment is a little gem, everyone loves ...</td>\n",
              "      <td>t</td>\n",
              "      <td>NaN</td>\n",
              "      <td>-22.97712</td>\n",
              "      <td>-43.19045</td>\n",
              "      <td>Entire apartment</td>\n",
              "      <td>Entire home/apt</td>\n",
              "      <td>2</td>\n",
              "      <td>NaN</td>\n",
              "      <td>1.0</td>\n",
              "      <td>[\"Elevator\", \"Dedicated workspace\", \"Kitchen\",...</td>\n",
              "      <td>$160.00</td>\n",
              "      <td>7</td>\n",
              "      <td>f</td>\n",
              "    </tr>\n",
              "    <tr>\n",
              "      <th>35636</th>\n",
              "      <td>This cosy apartment  is just a few steps away ...</td>\n",
              "      <td>t</td>\n",
              "      <td>NaN</td>\n",
              "      <td>-22.98816</td>\n",
              "      <td>-43.19359</td>\n",
              "      <td>Entire apartment</td>\n",
              "      <td>Entire home/apt</td>\n",
              "      <td>2</td>\n",
              "      <td>NaN</td>\n",
              "      <td>1.0</td>\n",
              "      <td>[\"Air conditioning\", \"Essentials\", \"Luggage dr...</td>\n",
              "      <td>$273.00</td>\n",
              "      <td>2</td>\n",
              "      <td>f</td>\n",
              "    </tr>\n",
              "    <tr>\n",
              "      <th>35764</th>\n",
              "      <td>Our newly renovated studio is located in the b...</td>\n",
              "      <td>t</td>\n",
              "      <td>NaN</td>\n",
              "      <td>-22.98127</td>\n",
              "      <td>-43.19046</td>\n",
              "      <td>Entire loft</td>\n",
              "      <td>Entire home/apt</td>\n",
              "      <td>2</td>\n",
              "      <td>NaN</td>\n",
              "      <td>1.0</td>\n",
              "      <td>[\"Extra pillows and blankets\", \"Air conditioni...</td>\n",
              "      <td>$135.00</td>\n",
              "      <td>3</td>\n",
              "      <td>f</td>\n",
              "    </tr>\n",
              "  </tbody>\n",
              "</table>\n",
              "</div>"
            ],
            "text/plain": [
              "                                             description  ... instant_bookable\n",
              "id                                                        ...                 \n",
              "17878  Discounts for long term stays. <br />- Large b...  ...                t\n",
              "24480  My studio is located in the best  of Ipanema. ...  ...                f\n",
              "25026  Our apartment is a little gem, everyone loves ...  ...                f\n",
              "35636  This cosy apartment  is just a few steps away ...  ...                f\n",
              "35764  Our newly renovated studio is located in the b...  ...                f\n",
              "\n",
              "[5 rows x 14 columns]"
            ]
          },
          "metadata": {
            "tags": []
          },
          "execution_count": 7
        }
      ]
    },
    {
      "cell_type": "code",
      "metadata": {
        "id": "kfKWfHTSOlTe",
        "colab": {
          "base_uri": "https://localhost:8080/"
        },
        "outputId": "4f4eb14a-a686-4ab3-c9bc-22e4e83d839a"
      },
      "source": [
        "# Quantos tipos de local temos\n",
        "df_raw.room_type.value_counts(normalize=True)"
      ],
      "execution_count": 8,
      "outputs": [
        {
          "output_type": "execute_result",
          "data": {
            "text/plain": [
              "Entire home/apt    0.724591\n",
              "Private room       0.248694\n",
              "Shared room        0.022995\n",
              "Hotel room         0.003720\n",
              "Name: room_type, dtype: float64"
            ]
          },
          "metadata": {
            "tags": []
          },
          "execution_count": 8
        }
      ]
    },
    {
      "cell_type": "code",
      "metadata": {
        "colab": {
          "base_uri": "https://localhost:8080/"
        },
        "id": "LoDJe1prpmMz",
        "outputId": "2ed54e0c-9364-4774-f486-f363e0ab715b"
      },
      "source": [
        "# Quantos tipos de propriedades temos\n",
        "df_raw.property_type.value_counts(normalize=True)"
      ],
      "execution_count": 9,
      "outputs": [
        {
          "output_type": "execute_result",
          "data": {
            "text/plain": [
              "Entire apartment               0.576893\n",
              "Private room in apartment      0.155852\n",
              "Entire condominium             0.047342\n",
              "Private room in house          0.046402\n",
              "Entire house                   0.042908\n",
              "                                 ...   \n",
              "Private room in boat           0.000038\n",
              "Entire hostel                  0.000038\n",
              "Shared room in nature lodge    0.000038\n",
              "Private room in tent           0.000038\n",
              "Shared room in townhouse       0.000038\n",
              "Name: property_type, Length: 87, dtype: float64"
            ]
          },
          "metadata": {
            "tags": []
          },
          "execution_count": 9
        }
      ]
    },
    {
      "cell_type": "markdown",
      "metadata": {
        "id": "fkp99-CGqIuf"
      },
      "source": [
        "### Limpeza da coluna de preços"
      ]
    },
    {
      "cell_type": "code",
      "metadata": {
        "colab": {
          "base_uri": "https://localhost:8080/",
          "height": 173
        },
        "id": "SbIEApcbqEhv",
        "outputId": "1cccde6f-b6ec-4e45-a081-58316975c487"
      },
      "source": [
        "df_raw[['price']].head(3)"
      ],
      "execution_count": 10,
      "outputs": [
        {
          "output_type": "execute_result",
          "data": {
            "text/html": [
              "<div>\n",
              "<style scoped>\n",
              "    .dataframe tbody tr th:only-of-type {\n",
              "        vertical-align: middle;\n",
              "    }\n",
              "\n",
              "    .dataframe tbody tr th {\n",
              "        vertical-align: top;\n",
              "    }\n",
              "\n",
              "    .dataframe thead th {\n",
              "        text-align: right;\n",
              "    }\n",
              "</style>\n",
              "<table border=\"1\" class=\"dataframe\">\n",
              "  <thead>\n",
              "    <tr style=\"text-align: right;\">\n",
              "      <th></th>\n",
              "      <th>price</th>\n",
              "    </tr>\n",
              "    <tr>\n",
              "      <th>id</th>\n",
              "      <th></th>\n",
              "    </tr>\n",
              "  </thead>\n",
              "  <tbody>\n",
              "    <tr>\n",
              "      <th>17878</th>\n",
              "      <td>$221.00</td>\n",
              "    </tr>\n",
              "    <tr>\n",
              "      <th>24480</th>\n",
              "      <td>$307.00</td>\n",
              "    </tr>\n",
              "    <tr>\n",
              "      <th>25026</th>\n",
              "      <td>$160.00</td>\n",
              "    </tr>\n",
              "  </tbody>\n",
              "</table>\n",
              "</div>"
            ],
            "text/plain": [
              "         price\n",
              "id            \n",
              "17878  $221.00\n",
              "24480  $307.00\n",
              "25026  $160.00"
            ]
          },
          "metadata": {
            "tags": []
          },
          "execution_count": 10
        }
      ]
    },
    {
      "cell_type": "code",
      "metadata": {
        "colab": {
          "base_uri": "https://localhost:8080/"
        },
        "id": "ToLKk-1iqLXE",
        "outputId": "dbff4f86-03e1-4f74-9f0d-1a324ed5dcfd"
      },
      "source": [
        "# Verificando os Nan's na coluna de preço\n",
        "df_raw.price.isna().sum()"
      ],
      "execution_count": 12,
      "outputs": [
        {
          "output_type": "execute_result",
          "data": {
            "text/plain": [
              "0"
            ]
          },
          "metadata": {
            "tags": []
          },
          "execution_count": 12
        }
      ]
    },
    {
      "cell_type": "markdown",
      "metadata": {
        "id": "R-agvVaUsO7Z"
      },
      "source": [
        "- Remover o sinal de dolar da coluna"
      ]
    },
    {
      "cell_type": "code",
      "metadata": {
        "id": "KuBS3YUxqrde"
      },
      "source": [
        "# Limpando a coluna\n",
        "df_raw.price = df_raw.price.str.replace('$', '').str.replace(',', '').astype(float)"
      ],
      "execution_count": 13,
      "outputs": []
    },
    {
      "cell_type": "code",
      "metadata": {
        "colab": {
          "base_uri": "https://localhost:8080/",
          "height": 235
        },
        "id": "Aty4Eal6sVzR",
        "outputId": "bf70b40a-15a7-41fc-9f9b-734505566eb7"
      },
      "source": [
        "df_raw.head()"
      ],
      "execution_count": 14,
      "outputs": [
        {
          "output_type": "execute_result",
          "data": {
            "text/html": [
              "<div>\n",
              "<style scoped>\n",
              "    .dataframe tbody tr th:only-of-type {\n",
              "        vertical-align: middle;\n",
              "    }\n",
              "\n",
              "    .dataframe tbody tr th {\n",
              "        vertical-align: top;\n",
              "    }\n",
              "\n",
              "    .dataframe thead th {\n",
              "        text-align: right;\n",
              "    }\n",
              "</style>\n",
              "<table border=\"1\" class=\"dataframe\">\n",
              "  <thead>\n",
              "    <tr style=\"text-align: right;\">\n",
              "      <th></th>\n",
              "      <th>description</th>\n",
              "      <th>host_has_profile_pic</th>\n",
              "      <th>neighbourhood_group_cleansed</th>\n",
              "      <th>latitude</th>\n",
              "      <th>longitude</th>\n",
              "      <th>property_type</th>\n",
              "      <th>room_type</th>\n",
              "      <th>accommodates</th>\n",
              "      <th>bathrooms</th>\n",
              "      <th>bedrooms</th>\n",
              "      <th>amenities</th>\n",
              "      <th>price</th>\n",
              "      <th>minimum_nights</th>\n",
              "      <th>instant_bookable</th>\n",
              "    </tr>\n",
              "    <tr>\n",
              "      <th>id</th>\n",
              "      <th></th>\n",
              "      <th></th>\n",
              "      <th></th>\n",
              "      <th></th>\n",
              "      <th></th>\n",
              "      <th></th>\n",
              "      <th></th>\n",
              "      <th></th>\n",
              "      <th></th>\n",
              "      <th></th>\n",
              "      <th></th>\n",
              "      <th></th>\n",
              "      <th></th>\n",
              "      <th></th>\n",
              "    </tr>\n",
              "  </thead>\n",
              "  <tbody>\n",
              "    <tr>\n",
              "      <th>17878</th>\n",
              "      <td>Discounts for long term stays. &lt;br /&gt;- Large b...</td>\n",
              "      <td>t</td>\n",
              "      <td>NaN</td>\n",
              "      <td>-22.96592</td>\n",
              "      <td>-43.17896</td>\n",
              "      <td>Entire condominium</td>\n",
              "      <td>Entire home/apt</td>\n",
              "      <td>5</td>\n",
              "      <td>NaN</td>\n",
              "      <td>2.0</td>\n",
              "      <td>[\"Air conditioning\", \"Essentials\", \"Luggage dr...</td>\n",
              "      <td>221.0</td>\n",
              "      <td>5</td>\n",
              "      <td>t</td>\n",
              "    </tr>\n",
              "    <tr>\n",
              "      <th>24480</th>\n",
              "      <td>My studio is located in the best  of Ipanema. ...</td>\n",
              "      <td>t</td>\n",
              "      <td>NaN</td>\n",
              "      <td>-22.98570</td>\n",
              "      <td>-43.20193</td>\n",
              "      <td>Entire apartment</td>\n",
              "      <td>Entire home/apt</td>\n",
              "      <td>2</td>\n",
              "      <td>NaN</td>\n",
              "      <td>1.0</td>\n",
              "      <td>[\"Extra pillows and blankets\", \"Air conditioni...</td>\n",
              "      <td>307.0</td>\n",
              "      <td>3</td>\n",
              "      <td>f</td>\n",
              "    </tr>\n",
              "    <tr>\n",
              "      <th>25026</th>\n",
              "      <td>Our apartment is a little gem, everyone loves ...</td>\n",
              "      <td>t</td>\n",
              "      <td>NaN</td>\n",
              "      <td>-22.97712</td>\n",
              "      <td>-43.19045</td>\n",
              "      <td>Entire apartment</td>\n",
              "      <td>Entire home/apt</td>\n",
              "      <td>2</td>\n",
              "      <td>NaN</td>\n",
              "      <td>1.0</td>\n",
              "      <td>[\"Elevator\", \"Dedicated workspace\", \"Kitchen\",...</td>\n",
              "      <td>160.0</td>\n",
              "      <td>7</td>\n",
              "      <td>f</td>\n",
              "    </tr>\n",
              "    <tr>\n",
              "      <th>35636</th>\n",
              "      <td>This cosy apartment  is just a few steps away ...</td>\n",
              "      <td>t</td>\n",
              "      <td>NaN</td>\n",
              "      <td>-22.98816</td>\n",
              "      <td>-43.19359</td>\n",
              "      <td>Entire apartment</td>\n",
              "      <td>Entire home/apt</td>\n",
              "      <td>2</td>\n",
              "      <td>NaN</td>\n",
              "      <td>1.0</td>\n",
              "      <td>[\"Air conditioning\", \"Essentials\", \"Luggage dr...</td>\n",
              "      <td>273.0</td>\n",
              "      <td>2</td>\n",
              "      <td>f</td>\n",
              "    </tr>\n",
              "    <tr>\n",
              "      <th>35764</th>\n",
              "      <td>Our newly renovated studio is located in the b...</td>\n",
              "      <td>t</td>\n",
              "      <td>NaN</td>\n",
              "      <td>-22.98127</td>\n",
              "      <td>-43.19046</td>\n",
              "      <td>Entire loft</td>\n",
              "      <td>Entire home/apt</td>\n",
              "      <td>2</td>\n",
              "      <td>NaN</td>\n",
              "      <td>1.0</td>\n",
              "      <td>[\"Extra pillows and blankets\", \"Air conditioni...</td>\n",
              "      <td>135.0</td>\n",
              "      <td>3</td>\n",
              "      <td>f</td>\n",
              "    </tr>\n",
              "  </tbody>\n",
              "</table>\n",
              "</div>"
            ],
            "text/plain": [
              "                                             description  ... instant_bookable\n",
              "id                                                        ...                 \n",
              "17878  Discounts for long term stays. <br />- Large b...  ...                t\n",
              "24480  My studio is located in the best  of Ipanema. ...  ...                f\n",
              "25026  Our apartment is a little gem, everyone loves ...  ...                f\n",
              "35636  This cosy apartment  is just a few steps away ...  ...                f\n",
              "35764  Our newly renovated studio is located in the b...  ...                f\n",
              "\n",
              "[5 rows x 14 columns]"
            ]
          },
          "metadata": {
            "tags": []
          },
          "execution_count": 14
        }
      ]
    },
    {
      "cell_type": "markdown",
      "metadata": {
        "id": "dptuCsaXGtyD"
      },
      "source": [
        "- Verificando agora o preço, para ver a necessidade de limpeza"
      ]
    },
    {
      "cell_type": "code",
      "metadata": {
        "colab": {
          "base_uri": "https://localhost:8080/"
        },
        "id": "uh8U6rZYsXMo",
        "outputId": "3ed6d0dc-702f-4072-c095-fa7ece468a0d"
      },
      "source": [
        "df_raw['price'].describe()"
      ],
      "execution_count": 16,
      "outputs": [
        {
          "output_type": "execute_result",
          "data": {
            "text/plain": [
              "count     26615.000000\n",
              "mean        742.589254\n",
              "std        5368.868834\n",
              "min           0.000000\n",
              "25%         157.000000\n",
              "50%         280.000000\n",
              "75%         550.000000\n",
              "max      625216.000000\n",
              "Name: price, dtype: float64"
            ]
          },
          "metadata": {
            "tags": []
          },
          "execution_count": 16
        }
      ]
    },
    {
      "cell_type": "code",
      "metadata": {
        "colab": {
          "base_uri": "https://localhost:8080/",
          "height": 157
        },
        "id": "wG-94HGgsdFZ",
        "outputId": "a4ddaaa4-4f73-4423-89c4-e86fc54933a9"
      },
      "source": [
        "red_square = dict(markerfacecolor='r', markeredgecolor='r', marker='.')\n",
        "df_raw['price'].plot(kind='box', xlim=(0, 10000), vert=False, flierprops=red_square, figsize=(16,2));"
      ],
      "execution_count": 17,
      "outputs": [
        {
          "output_type": "display_data",
          "data": {
            "image/png": "[encoded data removed]",
            "text/plain": [
              "<Figure size 1152x144 with 1 Axes>"
            ]
          },
          "metadata": {
            "tags": [],
            "needs_background": "light"
          }
        }
      ]
    },
    {
      "cell_type": "markdown",
      "metadata": {
        "id": "go4MKWfptYD2"
      },
      "source": [
        "Temos a média em 742, porém o máximo é de 625216\n",
        "Vamos fazer uma limpeza básica e limitar os valores em 4000, onde os outliers \n",
        "parecem estar mais espaçados"
      ]
    },
    {
      "cell_type": "code",
      "metadata": {
        "id": "fdGowOh6sgna"
      },
      "source": [
        "df_raw.drop(df_raw[ (df_raw.price > 4000) | (df_raw.price == 0) ].index, axis=0, inplace=True)"
      ],
      "execution_count": 18,
      "outputs": []
    },
    {
      "cell_type": "code",
      "metadata": {
        "colab": {
          "base_uri": "https://localhost:8080/"
        },
        "id": "wFkJVUU9uIc5",
        "outputId": "b4d21416-0161-4fca-e6d2-d3c79e849d4b"
      },
      "source": [
        "df_raw['price'].describe()\n"
      ],
      "execution_count": 19,
      "outputs": [
        {
          "output_type": "execute_result",
          "data": {
            "text/plain": [
              "count    26123.000000\n",
              "mean       466.545075\n",
              "std        542.664198\n",
              "min         33.000000\n",
              "25%        153.000000\n",
              "50%        276.000000\n",
              "75%        530.000000\n",
              "max       4000.000000\n",
              "Name: price, dtype: float64"
            ]
          },
          "metadata": {
            "tags": []
          },
          "execution_count": 19
        }
      ]
    },
    {
      "cell_type": "code",
      "metadata": {
        "colab": {
          "base_uri": "https://localhost:8080/"
        },
        "id": "BwYew8sPuN5F",
        "outputId": "03fcf3dd-4c78-4520-f39c-315d4c6062f2"
      },
      "source": [
        "print(\"O dataset possui {} linhas e {} colunas - após o preprocessamento do preço.\".format(*df_raw.shape))"
      ],
      "execution_count": 21,
      "outputs": [
        {
          "output_type": "stream",
          "text": [
            "O dataset possui 26123 linhas e 14 colunas - após o preprocessamento do preço.\n"
          ],
          "name": "stdout"
        }
      ]
    },
    {
      "cell_type": "markdown",
      "metadata": {
        "id": "1Oz3f-e3uaBb"
      },
      "source": [
        "### Lidando com valores ausentes"
      ]
    },
    {
      "cell_type": "code",
      "metadata": {
        "colab": {
          "base_uri": "https://localhost:8080/"
        },
        "id": "C1Uqz5WIuWuC",
        "outputId": "acdb73ad-65ee-4165-c00d-a4d2f8dea87b"
      },
      "source": [
        "df_raw.isna().sum()"
      ],
      "execution_count": 22,
      "outputs": [
        {
          "output_type": "execute_result",
          "data": {
            "text/plain": [
              "description                      1430\n",
              "host_has_profile_pic               22\n",
              "neighbourhood_group_cleansed    26123\n",
              "latitude                            0\n",
              "longitude                           0\n",
              "property_type                       0\n",
              "room_type                           0\n",
              "accommodates                        0\n",
              "bathrooms                       26123\n",
              "bedrooms                         1726\n",
              "amenities                           0\n",
              "price                               0\n",
              "minimum_nights                      0\n",
              "instant_bookable                    0\n",
              "dtype: int64"
            ]
          },
          "metadata": {
            "tags": []
          },
          "execution_count": 22
        }
      ]
    },
    {
      "cell_type": "code",
      "metadata": {
        "id": "d_XM5EqpucVI"
      },
      "source": [
        "# removendo as colunas com muitos NA's\n",
        "df_raw.drop(columns=['bathrooms', 'neighbourhood_group_cleansed'], inplace=True)"
      ],
      "execution_count": 23,
      "outputs": []
    },
    {
      "cell_type": "code",
      "metadata": {
        "id": "6cIlSTixw7T9"
      },
      "source": [
        "# removendo as linhas com Nan's em bedrooms\n",
        "df_raw.dropna(subset=[ 'bedrooms', ], inplace=True)"
      ],
      "execution_count": 24,
      "outputs": []
    },
    {
      "cell_type": "code",
      "metadata": {
        "colab": {
          "base_uri": "https://localhost:8080/"
        },
        "id": "VibSi6xMxTWV",
        "outputId": "db0dc77e-cb8a-4866-cf5e-9f2c9e60efd2"
      },
      "source": [
        "df_raw.host_has_profile_pic.unique()  "
      ],
      "execution_count": 25,
      "outputs": [
        {
          "output_type": "execute_result",
          "data": {
            "text/plain": [
              "array(['t', 'f', nan], dtype=object)"
            ]
          },
          "metadata": {
            "tags": []
          },
          "execution_count": 25
        }
      ]
    },
    {
      "cell_type": "code",
      "metadata": {
        "colab": {
          "base_uri": "https://localhost:8080/"
        },
        "id": "wfnUVSsExV6-",
        "outputId": "edd50b33-178d-4d56-92f4-849ea6a87a01"
      },
      "source": [
        "# substituindo host_has_profile_pic Nan's com nao\n",
        "df_raw.host_has_profile_pic.fillna(value='f', inplace=True)\n",
        "df_raw.host_has_profile_pic.unique()"
      ],
      "execution_count": 26,
      "outputs": [
        {
          "output_type": "execute_result",
          "data": {
            "text/plain": [
              "array(['t', 'f'], dtype=object)"
            ]
          },
          "metadata": {
            "tags": []
          },
          "execution_count": 26
        }
      ]
    },
    {
      "cell_type": "code",
      "metadata": {
        "colab": {
          "base_uri": "https://localhost:8080/"
        },
        "id": "EN8j9y2VyQDb",
        "outputId": "4103f43b-f433-4913-f71f-b798f09c717f"
      },
      "source": [
        "df_raw.isna().sum()"
      ],
      "execution_count": 27,
      "outputs": [
        {
          "output_type": "execute_result",
          "data": {
            "text/plain": [
              "description             1246\n",
              "host_has_profile_pic       0\n",
              "latitude                   0\n",
              "longitude                  0\n",
              "property_type              0\n",
              "room_type                  0\n",
              "accommodates               0\n",
              "bedrooms                   0\n",
              "amenities                  0\n",
              "price                      0\n",
              "minimum_nights             0\n",
              "instant_bookable           0\n",
              "dtype: int64"
            ]
          },
          "metadata": {
            "tags": []
          },
          "execution_count": 27
        }
      ]
    },
    {
      "cell_type": "code",
      "metadata": {
        "colab": {
          "base_uri": "https://localhost:8080/"
        },
        "id": "cb9JnE95ySsp",
        "outputId": "ca33b311-40d1-43bb-a3bb-07b51da972f4"
      },
      "source": [
        "print(\"O dataset tem {} linhas e {} colunas - apos lidar com os valores faltantes.\".format(*df_raw.shape))"
      ],
      "execution_count": 28,
      "outputs": [
        {
          "output_type": "stream",
          "text": [
            "O dataset tem 24397 linhas e 12 colunas - apos lidar com os valores faltantes.\n"
          ],
          "name": "stdout"
        }
      ]
    },
    {
      "cell_type": "markdown",
      "metadata": {
        "id": "CfmghMe5H5XC"
      },
      "source": [
        "## Engenharia de atributos - Feature Engineering"
      ]
    },
    {
      "cell_type": "markdown",
      "metadata": {
        "id": "AGlGCyTsyaep"
      },
      "source": [
        "### Feature Engineering 1: Distancia do centro do Rio\n",
        "\n"
      ]
    },
    {
      "cell_type": "code",
      "metadata": {
        "id": "-yN-z4k7yXnZ"
      },
      "source": [
        "from geopy.distance import great_circle"
      ],
      "execution_count": 29,
      "outputs": []
    },
    {
      "cell_type": "code",
      "metadata": {
        "id": "ENFYoEPOy9TJ"
      },
      "source": [
        "def distance_to_mid(lat, lon):\n",
        "    rio_center = (-22.906847, -43.172897)  # localizaçao do centro do Rio\n",
        "    accommodation = (lat, lon)\n",
        "    return great_circle(rio_center, accommodation).km"
      ],
      "execution_count": 30,
      "outputs": []
    },
    {
      "cell_type": "code",
      "metadata": {
        "id": "raioeShWy_t-"
      },
      "source": [
        "df_raw['distance'] = df_raw.apply(lambda x: distance_to_mid(x.latitude, x.longitude), axis=1)"
      ],
      "execution_count": 31,
      "outputs": []
    },
    {
      "cell_type": "code",
      "metadata": {
        "colab": {
          "base_uri": "https://localhost:8080/",
          "height": 142
        },
        "id": "XQS30jAnzBgS",
        "outputId": "ab735882-3729-4ced-a084-a6b491a95c13"
      },
      "source": [
        "df_raw.head(2)"
      ],
      "execution_count": 32,
      "outputs": [
        {
          "output_type": "execute_result",
          "data": {
            "text/html": [
              "<div>\n",
              "<style scoped>\n",
              "    .dataframe tbody tr th:only-of-type {\n",
              "        vertical-align: middle;\n",
              "    }\n",
              "\n",
              "    .dataframe tbody tr th {\n",
              "        vertical-align: top;\n",
              "    }\n",
              "\n",
              "    .dataframe thead th {\n",
              "        text-align: right;\n",
              "    }\n",
              "</style>\n",
              "<table border=\"1\" class=\"dataframe\">\n",
              "  <thead>\n",
              "    <tr style=\"text-align: right;\">\n",
              "      <th></th>\n",
              "      <th>description</th>\n",
              "      <th>host_has_profile_pic</th>\n",
              "      <th>latitude</th>\n",
              "      <th>longitude</th>\n",
              "      <th>property_type</th>\n",
              "      <th>room_type</th>\n",
              "      <th>accommodates</th>\n",
              "      <th>bedrooms</th>\n",
              "      <th>amenities</th>\n",
              "      <th>price</th>\n",
              "      <th>minimum_nights</th>\n",
              "      <th>instant_bookable</th>\n",
              "      <th>distance</th>\n",
              "    </tr>\n",
              "    <tr>\n",
              "      <th>id</th>\n",
              "      <th></th>\n",
              "      <th></th>\n",
              "      <th></th>\n",
              "      <th></th>\n",
              "      <th></th>\n",
              "      <th></th>\n",
              "      <th></th>\n",
              "      <th></th>\n",
              "      <th></th>\n",
              "      <th></th>\n",
              "      <th></th>\n",
              "      <th></th>\n",
              "      <th></th>\n",
              "    </tr>\n",
              "  </thead>\n",
              "  <tbody>\n",
              "    <tr>\n",
              "      <th>17878</th>\n",
              "      <td>Discounts for long term stays. &lt;br /&gt;- Large b...</td>\n",
              "      <td>t</td>\n",
              "      <td>-22.96592</td>\n",
              "      <td>-43.17896</td>\n",
              "      <td>Entire condominium</td>\n",
              "      <td>Entire home/apt</td>\n",
              "      <td>5</td>\n",
              "      <td>2.0</td>\n",
              "      <td>[\"Air conditioning\", \"Essentials\", \"Luggage dr...</td>\n",
              "      <td>221.0</td>\n",
              "      <td>5</td>\n",
              "      <td>t</td>\n",
              "      <td>6.597905</td>\n",
              "    </tr>\n",
              "    <tr>\n",
              "      <th>24480</th>\n",
              "      <td>My studio is located in the best  of Ipanema. ...</td>\n",
              "      <td>t</td>\n",
              "      <td>-22.98570</td>\n",
              "      <td>-43.20193</td>\n",
              "      <td>Entire apartment</td>\n",
              "      <td>Entire home/apt</td>\n",
              "      <td>2</td>\n",
              "      <td>1.0</td>\n",
              "      <td>[\"Extra pillows and blankets\", \"Air conditioni...</td>\n",
              "      <td>307.0</td>\n",
              "      <td>3</td>\n",
              "      <td>f</td>\n",
              "      <td>9.258345</td>\n",
              "    </tr>\n",
              "  </tbody>\n",
              "</table>\n",
              "</div>"
            ],
            "text/plain": [
              "                                             description  ...  distance\n",
              "id                                                        ...          \n",
              "17878  Discounts for long term stays. <br />- Large b...  ...  6.597905\n",
              "24480  My studio is located in the best  of Ipanema. ...  ...  9.258345\n",
              "\n",
              "[2 rows x 13 columns]"
            ]
          },
          "metadata": {
            "tags": []
          },
          "execution_count": 32
        }
      ]
    },
    {
      "cell_type": "markdown",
      "metadata": {
        "id": "_67VaJXvBC8I"
      },
      "source": [
        "### Feature Engineering 3: Amenities\n",
        "\n"
      ]
    },
    {
      "cell_type": "markdown",
      "metadata": {
        "id": "l5WhlAmnBJkc"
      },
      "source": [
        "Contexto: \n",
        "A palavra ainda é pouco conhecida, mas os amenities são os cosméticos disponibilizados para os hóspedes nos hotéis. São itens obrigatórios, como sabonetes e xampus, oferecidos por todos os tipos de hospedagens. No entanto, de um tempo para cá os hoteleiros estão percebendo o potencial destes produtos como atrativos.\n",
        "\n",
        "Os amenities podem ser verdadeiros diferenciais para os hotéis. Diversas redes têm investido pesado em produtos especiais, com fragrâncias, embalagens, além da própria diversificação da linha. Os produtos deixaram de ser apenas pequenos sabonetes e mini-frascos de xampu. Agora os hoteleiros investem em óleos essenciais, sais de banho, loções de limpeza, hidratantes, entre outros.\n",
        "fonte: https://www.cpt.com.br/noticias/amenities-podem-ser-diferencial-em-hoteis"
      ]
    },
    {
      "cell_type": "code",
      "metadata": {
        "id": "yM17sxue-ds0"
      },
      "source": [
        "from collections import Counter"
      ],
      "execution_count": 34,
      "outputs": []
    },
    {
      "cell_type": "code",
      "metadata": {
        "colab": {
          "base_uri": "https://localhost:8080/"
        },
        "id": "epRxLxK6BTAE",
        "outputId": "6fd938c8-39f7-45d7-e90c-efe62aaf2f2e"
      },
      "source": [
        "results = Counter()\n",
        "df_raw['amenities'].str.strip('{}')\\\n",
        "               .str.replace('\"', '')\\\n",
        "               .str.lstrip('\\\"')\\\n",
        "               .str.rstrip('\\\"')\\\n",
        "               .str.split(',')\\\n",
        "               .apply(results.update)\n",
        "\n",
        "results.most_common(30)"
      ],
      "execution_count": 35,
      "outputs": [
        {
          "output_type": "execute_result",
          "data": {
            "text/plain": [
              "[(' Wifi', 21433),\n",
              " (' Long term stays allowed', 20422),\n",
              " (' Essentials', 20344),\n",
              " (' Kitchen', 20008),\n",
              " (' TV', 19400),\n",
              " (' Air conditioning', 16084),\n",
              " (' Iron', 15916),\n",
              " (' Hangers', 15575),\n",
              " (' Washer', 15433),\n",
              " (' Hot water', 13903),\n",
              " (' Dedicated workspace', 11930),\n",
              " (' Dishes and silverware', 11525),\n",
              " (' Refrigerator', 10415),\n",
              " (' Microwave', 9769),\n",
              " (' Cooking basics', 9564),\n",
              " (' Hair dryer', 9356),\n",
              " (' Bed linens', 9027),\n",
              " (' Stove', 8862),\n",
              " (' Elevator', 8084),\n",
              " ('[Elevator', 6953),\n",
              " (' Coffee maker', 6937),\n",
              " (' Free parking on premises', 6756),\n",
              " (' Oven', 6700),\n",
              " (' Pool', 6413),\n",
              " (' Cable TV', 5718),\n",
              " (' Luggage dropoff allowed', 5178),\n",
              " (' Shampoo', 5026),\n",
              " (' Private entrance', 4708),\n",
              " (' Fire extinguisher]', 4442),\n",
              " ('[Extra pillows and blankets', 4419)]"
            ]
          },
          "metadata": {
            "tags": []
          },
          "execution_count": 35
        }
      ]
    },
    {
      "cell_type": "code",
      "metadata": {
        "id": "y-qiMlvdBVTL"
      },
      "source": [
        "# criando um novo dataframe\n",
        "sub_df = pd.DataFrame(results.most_common(30), columns=['amenity', 'count'])"
      ],
      "execution_count": 36,
      "outputs": []
    },
    {
      "cell_type": "code",
      "metadata": {
        "colab": {
          "base_uri": "https://localhost:8080/",
          "height": 457
        },
        "id": "ATPDBaoUBh__",
        "outputId": "21bcb960-3cd7-4eb8-e2fe-5cb2955e4ea0"
      },
      "source": [
        "# plot the Top 20\n",
        "sub_df.sort_values(by=['count'], ascending=True).plot(kind='barh', x='amenity', y='count',  \n",
        "                                                      figsize=(10,7), legend=False, color='darkgrey',\n",
        "                                                      title='Amenities')\n",
        "plt.xlabel('Count');"
      ],
      "execution_count": 37,
      "outputs": [
        {
          "output_type": "display_data",
          "data": {
            "image/png": "[encoded data removed]",
            "text/plain": [
              "<Figure size 720x504 with 1 Axes>"
            ]
          },
          "metadata": {
            "tags": [],
            "needs_background": "light"
          }
        }
      ]
    },
    {
      "cell_type": "markdown",
      "metadata": {
        "id": "8P9RCgugCC1S"
      },
      "source": [
        "Vamos adicionar colunas com comodidades que são um tanto únicas e não oferecidas por todos os hosts:\n",
        "\n",
        "- TV\n",
        "- Hot Water\n",
        "- Dedicated workspace\n",
        "- Cooking basics\n",
        "- Hair dryer"
      ]
    },
    {
      "cell_type": "code",
      "metadata": {
        "id": "dWqdq4uABlEh"
      },
      "source": [
        "df_raw['Hot water'] = df_raw['amenities'].str.contains('Hot water')\n",
        "df_raw['TV'] = df_raw['amenities'].str.contains('TV')\n",
        "df_raw['Dedicated workspace'] = df_raw['amenities'].str.contains('Dedicated workspace')\n",
        "df_raw['Cooking basics'] = df_raw['amenities'].str.contains('Cooking basics')\n",
        "df_raw['Hair dryer'] = df_raw['amenities'].str.contains('Hair dryer')"
      ],
      "execution_count": 38,
      "outputs": []
    },
    {
      "cell_type": "code",
      "metadata": {
        "id": "IQ2ktTrNC4we"
      },
      "source": [
        "df_raw.drop(['amenities'], axis=1, inplace=True)"
      ],
      "execution_count": 39,
      "outputs": []
    },
    {
      "cell_type": "markdown",
      "metadata": {
        "id": "Se1qJiYnC9Bl"
      },
      "source": [
        "## Análise Exploratória de Dados (EDA)"
      ]
    },
    {
      "cell_type": "code",
      "metadata": {
        "id": "Xn8nDotrC51V"
      },
      "source": [
        "df = df_raw.copy()"
      ],
      "execution_count": 40,
      "outputs": []
    },
    {
      "cell_type": "code",
      "metadata": {
        "colab": {
          "base_uri": "https://localhost:8080/",
          "height": 235
        },
        "id": "kYCEPyA7DIZA",
        "outputId": "af24fcaa-0ded-4b88-e940-aaa375c86386"
      },
      "source": [
        "df.head()"
      ],
      "execution_count": 41,
      "outputs": [
        {
          "output_type": "execute_result",
          "data": {
            "text/html": [
              "<div>\n",
              "<style scoped>\n",
              "    .dataframe tbody tr th:only-of-type {\n",
              "        vertical-align: middle;\n",
              "    }\n",
              "\n",
              "    .dataframe tbody tr th {\n",
              "        vertical-align: top;\n",
              "    }\n",
              "\n",
              "    .dataframe thead th {\n",
              "        text-align: right;\n",
              "    }\n",
              "</style>\n",
              "<table border=\"1\" class=\"dataframe\">\n",
              "  <thead>\n",
              "    <tr style=\"text-align: right;\">\n",
              "      <th></th>\n",
              "      <th>description</th>\n",
              "      <th>host_has_profile_pic</th>\n",
              "      <th>latitude</th>\n",
              "      <th>longitude</th>\n",
              "      <th>property_type</th>\n",
              "      <th>room_type</th>\n",
              "      <th>accommodates</th>\n",
              "      <th>bedrooms</th>\n",
              "      <th>price</th>\n",
              "      <th>minimum_nights</th>\n",
              "      <th>instant_bookable</th>\n",
              "      <th>distance</th>\n",
              "      <th>Hot water</th>\n",
              "      <th>TV</th>\n",
              "      <th>Dedicated workspace</th>\n",
              "      <th>Cooking basics</th>\n",
              "      <th>Hair dryer</th>\n",
              "    </tr>\n",
              "    <tr>\n",
              "      <th>id</th>\n",
              "      <th></th>\n",
              "      <th></th>\n",
              "      <th></th>\n",
              "      <th></th>\n",
              "      <th></th>\n",
              "      <th></th>\n",
              "      <th></th>\n",
              "      <th></th>\n",
              "      <th></th>\n",
              "      <th></th>\n",
              "      <th></th>\n",
              "      <th></th>\n",
              "      <th></th>\n",
              "      <th></th>\n",
              "      <th></th>\n",
              "      <th></th>\n",
              "      <th></th>\n",
              "    </tr>\n",
              "  </thead>\n",
              "  <tbody>\n",
              "    <tr>\n",
              "      <th>17878</th>\n",
              "      <td>Discounts for long term stays. &lt;br /&gt;- Large b...</td>\n",
              "      <td>t</td>\n",
              "      <td>-22.96592</td>\n",
              "      <td>-43.17896</td>\n",
              "      <td>Entire condominium</td>\n",
              "      <td>Entire home/apt</td>\n",
              "      <td>5</td>\n",
              "      <td>2.0</td>\n",
              "      <td>221.0</td>\n",
              "      <td>5</td>\n",
              "      <td>t</td>\n",
              "      <td>6.597905</td>\n",
              "      <td>True</td>\n",
              "      <td>True</td>\n",
              "      <td>True</td>\n",
              "      <td>True</td>\n",
              "      <td>True</td>\n",
              "    </tr>\n",
              "    <tr>\n",
              "      <th>24480</th>\n",
              "      <td>My studio is located in the best  of Ipanema. ...</td>\n",
              "      <td>t</td>\n",
              "      <td>-22.98570</td>\n",
              "      <td>-43.20193</td>\n",
              "      <td>Entire apartment</td>\n",
              "      <td>Entire home/apt</td>\n",
              "      <td>2</td>\n",
              "      <td>1.0</td>\n",
              "      <td>307.0</td>\n",
              "      <td>3</td>\n",
              "      <td>f</td>\n",
              "      <td>9.258345</td>\n",
              "      <td>True</td>\n",
              "      <td>True</td>\n",
              "      <td>True</td>\n",
              "      <td>False</td>\n",
              "      <td>True</td>\n",
              "    </tr>\n",
              "    <tr>\n",
              "      <th>25026</th>\n",
              "      <td>Our apartment is a little gem, everyone loves ...</td>\n",
              "      <td>t</td>\n",
              "      <td>-22.97712</td>\n",
              "      <td>-43.19045</td>\n",
              "      <td>Entire apartment</td>\n",
              "      <td>Entire home/apt</td>\n",
              "      <td>2</td>\n",
              "      <td>1.0</td>\n",
              "      <td>160.0</td>\n",
              "      <td>7</td>\n",
              "      <td>f</td>\n",
              "      <td>8.018073</td>\n",
              "      <td>False</td>\n",
              "      <td>True</td>\n",
              "      <td>True</td>\n",
              "      <td>False</td>\n",
              "      <td>True</td>\n",
              "    </tr>\n",
              "    <tr>\n",
              "      <th>35636</th>\n",
              "      <td>This cosy apartment  is just a few steps away ...</td>\n",
              "      <td>t</td>\n",
              "      <td>-22.98816</td>\n",
              "      <td>-43.19359</td>\n",
              "      <td>Entire apartment</td>\n",
              "      <td>Entire home/apt</td>\n",
              "      <td>2</td>\n",
              "      <td>1.0</td>\n",
              "      <td>273.0</td>\n",
              "      <td>2</td>\n",
              "      <td>f</td>\n",
              "      <td>9.286562</td>\n",
              "      <td>True</td>\n",
              "      <td>True</td>\n",
              "      <td>False</td>\n",
              "      <td>True</td>\n",
              "      <td>True</td>\n",
              "    </tr>\n",
              "    <tr>\n",
              "      <th>35764</th>\n",
              "      <td>Our newly renovated studio is located in the b...</td>\n",
              "      <td>t</td>\n",
              "      <td>-22.98127</td>\n",
              "      <td>-43.19046</td>\n",
              "      <td>Entire loft</td>\n",
              "      <td>Entire home/apt</td>\n",
              "      <td>2</td>\n",
              "      <td>1.0</td>\n",
              "      <td>135.0</td>\n",
              "      <td>3</td>\n",
              "      <td>f</td>\n",
              "      <td>8.468632</td>\n",
              "      <td>True</td>\n",
              "      <td>True</td>\n",
              "      <td>True</td>\n",
              "      <td>True</td>\n",
              "      <td>True</td>\n",
              "    </tr>\n",
              "  </tbody>\n",
              "</table>\n",
              "</div>"
            ],
            "text/plain": [
              "                                             description  ... Hair dryer\n",
              "id                                                        ...           \n",
              "17878  Discounts for long term stays. <br />- Large b...  ...       True\n",
              "24480  My studio is located in the best  of Ipanema. ...  ...       True\n",
              "25026  Our apartment is a little gem, everyone loves ...  ...       True\n",
              "35636  This cosy apartment  is just a few steps away ...  ...       True\n",
              "35764  Our newly renovated studio is located in the b...  ...       True\n",
              "\n",
              "[5 rows x 17 columns]"
            ]
          },
          "metadata": {
            "tags": []
          },
          "execution_count": 41
        }
      ]
    },
    {
      "cell_type": "markdown",
      "metadata": {
        "id": "WQ2jywaiEUM5"
      },
      "source": [
        "- Diferença de preço no mapa\n"
      ]
    },
    {
      "cell_type": "code",
      "metadata": {
        "colab": {
          "base_uri": "https://localhost:8080/",
          "height": 446
        },
        "id": "faFOSZ2KDSjU",
        "outputId": "489e437a-1119-4d9c-8080-dd5990ba3377"
      },
      "source": [
        "df.plot(kind=\"scatter\", x=\"longitude\", y=\"latitude\", alpha=0.4, figsize=(10,7), \n",
        "        c=\"price\", cmap=\"gist_heat_r\", colorbar=True, sharex=False);"
      ],
      "execution_count": 42,
      "outputs": [
        {
          "output_type": "display_data",
          "data": {
            "image/png": "[encoded data removed]",
            "text/plain": [
              "<Figure size 720x504 with 2 Axes>"
            ]
          },
          "metadata": {
            "tags": [],
            "needs_background": "light"
          }
        }
      ]
    },
    {
      "cell_type": "markdown",
      "metadata": {
        "id": "GLK9L0tTESla"
      },
      "source": [
        "- Diferenças de preços por distância de acomodação até o centro do Rio"
      ]
    },
    {
      "cell_type": "code",
      "metadata": {
        "colab": {
          "base_uri": "https://localhost:8080/",
          "height": 437
        },
        "id": "9fdfJkvDDXmX",
        "outputId": "38134062-791b-4554-c805-b9b15420af85"
      },
      "source": [
        "df.plot.scatter(x=\"distance\", y=\"price\", figsize=(9,6), c='dimgrey')\n",
        "plt.title('\\nRelacao entre a distancia e a média dos preços\\n', fontsize=14, fontweight='bold');"
      ],
      "execution_count": 45,
      "outputs": [
        {
          "output_type": "display_data",
          "data": {
            "image/png": "[encoded data removed]",
            "text/plain": [
              "<Figure size 648x432 with 1 Axes>"
            ]
          },
          "metadata": {
            "tags": [],
            "needs_background": "light"
          }
        }
      ]
    },
    {
      "cell_type": "code",
      "metadata": {
        "colab": {
          "base_uri": "https://localhost:8080/",
          "height": 441
        },
        "id": "ddNoZM4WDt9H",
        "outputId": "61356aca-f4de-4911-a238-f014502769ef"
      },
      "source": [
        "sns.jointplot(x=df[\"distance\"], y=df[\"price\"], kind='hex')\n",
        "plt.title('\\nRelacao entre a distancia e a média dos precos\\n', fontsize=14, fontweight='bold');\n"
      ],
      "execution_count": 46,
      "outputs": [
        {
          "output_type": "display_data",
          "data": {
            "image/png": "[encoded data removed]",
            "text/plain": [
              "<Figure size 432x432 with 3 Axes>"
            ]
          },
          "metadata": {
            "tags": [],
            "needs_background": "light"
          }
        }
      ]
    },
    {
      "cell_type": "markdown",
      "metadata": {
        "id": "zqh9-LkSFhS8"
      },
      "source": [
        "## Modelagem"
      ]
    },
    {
      "cell_type": "markdown",
      "metadata": {
        "id": "xWS_UbQKFm9S"
      },
      "source": [
        "### Preparando o target e as features\n",
        "\n"
      ]
    },
    {
      "cell_type": "code",
      "metadata": {
        "colab": {
          "base_uri": "https://localhost:8080/"
        },
        "id": "ZqImdRwLFma6",
        "outputId": "9ed03de3-0193-44b9-b1d1-124e6a3d6e67"
      },
      "source": [
        "df.columns"
      ],
      "execution_count": 47,
      "outputs": [
        {
          "output_type": "execute_result",
          "data": {
            "text/plain": [
              "Index(['description', 'host_has_profile_pic', 'latitude', 'longitude',\n",
              "       'property_type', 'room_type', 'accommodates', 'bedrooms', 'price',\n",
              "       'minimum_nights', 'instant_bookable', 'distance', 'Hot water', 'TV',\n",
              "       'Dedicated workspace', 'Cooking basics', 'Hair dryer'],\n",
              "      dtype='object')"
            ]
          },
          "metadata": {
            "tags": []
          },
          "execution_count": 47
        }
      ]
    },
    {
      "cell_type": "code",
      "metadata": {
        "colab": {
          "base_uri": "https://localhost:8080/"
        },
        "id": "TnuIGDvzFg4p",
        "outputId": "5437cf47-0090-4b0f-e042-38d5f51378ab"
      },
      "source": [
        "df.info()"
      ],
      "execution_count": 48,
      "outputs": [
        {
          "output_type": "stream",
          "text": [
            "<class 'pandas.core.frame.DataFrame'>\n",
            "Int64Index: 24397 entries, 17878 to 48276004\n",
            "Data columns (total 17 columns):\n",
            " #   Column                Non-Null Count  Dtype  \n",
            "---  ------                --------------  -----  \n",
            " 0   description           23151 non-null  object \n",
            " 1   host_has_profile_pic  24397 non-null  object \n",
            " 2   latitude              24397 non-null  float64\n",
            " 3   longitude             24397 non-null  float64\n",
            " 4   property_type         24397 non-null  object \n",
            " 5   room_type             24397 non-null  object \n",
            " 6   accommodates          24397 non-null  int64  \n",
            " 7   bedrooms              24397 non-null  float64\n",
            " 8   price                 24397 non-null  float64\n",
            " 9   minimum_nights        24397 non-null  int64  \n",
            " 10  instant_bookable      24397 non-null  object \n",
            " 11  distance              24397 non-null  float64\n",
            " 12  Hot water             24397 non-null  bool   \n",
            " 13  TV                    24397 non-null  bool   \n",
            " 14  Dedicated workspace   24397 non-null  bool   \n",
            " 15  Cooking basics        24397 non-null  bool   \n",
            " 16  Hair dryer            24397 non-null  bool   \n",
            "dtypes: bool(5), float64(5), int64(2), object(5)\n",
            "memory usage: 2.5+ MB\n"
          ],
          "name": "stdout"
        }
      ]
    },
    {
      "cell_type": "markdown",
      "metadata": {
        "id": "5GhRH-qWLOIh"
      },
      "source": [
        "- Como trabalhamos com a distancia até o centro, vamos remover algumas colunas desnecessárias"
      ]
    },
    {
      "cell_type": "code",
      "metadata": {
        "id": "G8LlQNDCFqm-"
      },
      "source": [
        "df.drop(['latitude', 'longitude', 'property_type'], axis=1, inplace=True)"
      ],
      "execution_count": 49,
      "outputs": []
    },
    {
      "cell_type": "markdown",
      "metadata": {
        "id": "S2XvchC-HzYJ"
      },
      "source": [
        "- Convertendo as colunas de strings em categorias"
      ]
    },
    {
      "cell_type": "code",
      "metadata": {
        "id": "onqK1imiHw46"
      },
      "source": [
        "for col in ['host_has_profile_pic', 'room_type', 'instant_bookable']:\n",
        "    df[col] = df[col].astype('category')"
      ],
      "execution_count": 50,
      "outputs": []
    },
    {
      "cell_type": "code",
      "metadata": {
        "id": "mGDD7wJiIHOl"
      },
      "source": [
        "# definindo o target\n",
        "target = df[[\"price\"]]\n",
        "\n",
        "# definindo as features\n",
        "features = df.drop([\"price\"], axis=1)"
      ],
      "execution_count": 51,
      "outputs": []
    },
    {
      "cell_type": "markdown",
      "metadata": {
        "id": "F-8qpO0mIWle"
      },
      "source": [
        "- One Hot Encoding"
      ]
    },
    {
      "cell_type": "code",
      "metadata": {
        "id": "6VW0e2exIVR_"
      },
      "source": [
        "num_feats = features.select_dtypes(include=['float64', 'int64', 'bool']).copy()\n",
        "\n",
        "# one-hot encoding para features categoricas \n",
        "cat_feats = features.select_dtypes(include=['category']).copy()\n",
        "cat_feats = pd.get_dummies(cat_feats)"
      ],
      "execution_count": 52,
      "outputs": []
    },
    {
      "cell_type": "code",
      "metadata": {
        "id": "zK5cKkP7IbKF"
      },
      "source": [
        "features_recoded = pd.concat([num_feats, cat_feats], axis=1)"
      ],
      "execution_count": 53,
      "outputs": []
    },
    {
      "cell_type": "code",
      "metadata": {
        "colab": {
          "base_uri": "https://localhost:8080/",
          "height": 176
        },
        "id": "5rWDRvWjIen1",
        "outputId": "8bd71703-0551-4132-be5b-ed1df88c7159"
      },
      "source": [
        "print(features_recoded.shape)\n",
        "features_recoded.head(2)"
      ],
      "execution_count": 54,
      "outputs": [
        {
          "output_type": "stream",
          "text": [
            "(24397, 17)\n"
          ],
          "name": "stdout"
        },
        {
          "output_type": "execute_result",
          "data": {
            "text/html": [
              "<div>\n",
              "<style scoped>\n",
              "    .dataframe tbody tr th:only-of-type {\n",
              "        vertical-align: middle;\n",
              "    }\n",
              "\n",
              "    .dataframe tbody tr th {\n",
              "        vertical-align: top;\n",
              "    }\n",
              "\n",
              "    .dataframe thead th {\n",
              "        text-align: right;\n",
              "    }\n",
              "</style>\n",
              "<table border=\"1\" class=\"dataframe\">\n",
              "  <thead>\n",
              "    <tr style=\"text-align: right;\">\n",
              "      <th></th>\n",
              "      <th>accommodates</th>\n",
              "      <th>bedrooms</th>\n",
              "      <th>minimum_nights</th>\n",
              "      <th>distance</th>\n",
              "      <th>Hot water</th>\n",
              "      <th>TV</th>\n",
              "      <th>Dedicated workspace</th>\n",
              "      <th>Cooking basics</th>\n",
              "      <th>Hair dryer</th>\n",
              "      <th>host_has_profile_pic_f</th>\n",
              "      <th>host_has_profile_pic_t</th>\n",
              "      <th>room_type_Entire home/apt</th>\n",
              "      <th>room_type_Hotel room</th>\n",
              "      <th>room_type_Private room</th>\n",
              "      <th>room_type_Shared room</th>\n",
              "      <th>instant_bookable_f</th>\n",
              "      <th>instant_bookable_t</th>\n",
              "    </tr>\n",
              "    <tr>\n",
              "      <th>id</th>\n",
              "      <th></th>\n",
              "      <th></th>\n",
              "      <th></th>\n",
              "      <th></th>\n",
              "      <th></th>\n",
              "      <th></th>\n",
              "      <th></th>\n",
              "      <th></th>\n",
              "      <th></th>\n",
              "      <th></th>\n",
              "      <th></th>\n",
              "      <th></th>\n",
              "      <th></th>\n",
              "      <th></th>\n",
              "      <th></th>\n",
              "      <th></th>\n",
              "      <th></th>\n",
              "    </tr>\n",
              "  </thead>\n",
              "  <tbody>\n",
              "    <tr>\n",
              "      <th>17878</th>\n",
              "      <td>5</td>\n",
              "      <td>2.0</td>\n",
              "      <td>5</td>\n",
              "      <td>6.597905</td>\n",
              "      <td>True</td>\n",
              "      <td>True</td>\n",
              "      <td>True</td>\n",
              "      <td>True</td>\n",
              "      <td>True</td>\n",
              "      <td>0</td>\n",
              "      <td>1</td>\n",
              "      <td>1</td>\n",
              "      <td>0</td>\n",
              "      <td>0</td>\n",
              "      <td>0</td>\n",
              "      <td>0</td>\n",
              "      <td>1</td>\n",
              "    </tr>\n",
              "    <tr>\n",
              "      <th>24480</th>\n",
              "      <td>2</td>\n",
              "      <td>1.0</td>\n",
              "      <td>3</td>\n",
              "      <td>9.258345</td>\n",
              "      <td>True</td>\n",
              "      <td>True</td>\n",
              "      <td>True</td>\n",
              "      <td>False</td>\n",
              "      <td>True</td>\n",
              "      <td>0</td>\n",
              "      <td>1</td>\n",
              "      <td>1</td>\n",
              "      <td>0</td>\n",
              "      <td>0</td>\n",
              "      <td>0</td>\n",
              "      <td>1</td>\n",
              "      <td>0</td>\n",
              "    </tr>\n",
              "  </tbody>\n",
              "</table>\n",
              "</div>"
            ],
            "text/plain": [
              "       accommodates  bedrooms  ...  instant_bookable_f  instant_bookable_t\n",
              "id                             ...                                        \n",
              "17878             5       2.0  ...                   0                   1\n",
              "24480             2       1.0  ...                   1                   0\n",
              "\n",
              "[2 rows x 17 columns]"
            ]
          },
          "metadata": {
            "tags": []
          },
          "execution_count": 54
        }
      ]
    },
    {
      "cell_type": "markdown",
      "metadata": {
        "id": "mWzRjeU3Irpo"
      },
      "source": [
        "#### Splitting e Scaling dos dados"
      ]
    },
    {
      "cell_type": "code",
      "metadata": {
        "id": "tyZ-wC1rIk51"
      },
      "source": [
        "# import train_test_split function\n",
        "from sklearn.model_selection import train_test_split\n",
        "# import metrics\n",
        "from sklearn.metrics import mean_squared_error, r2_score\n",
        "\n",
        "# split dos dados\n",
        "X_train, X_test, y_train, y_test = train_test_split(features_recoded, target, test_size=0.2)"
      ],
      "execution_count": 55,
      "outputs": []
    },
    {
      "cell_type": "code",
      "metadata": {
        "id": "7asr5mJ9ItSV"
      },
      "source": [
        "# scale data\n",
        "from sklearn.preprocessing import StandardScaler\n",
        "sc = StandardScaler()\n",
        "X_train = sc.fit_transform(X_train)\n",
        "X_test  = sc.transform(X_test)"
      ],
      "execution_count": 56,
      "outputs": []
    },
    {
      "cell_type": "code",
      "metadata": {
        "colab": {
          "base_uri": "https://localhost:8080/"
        },
        "id": "95GNlefxL3el",
        "outputId": "944bb960-1ba4-4698-bc07-88c8f61a65c2"
      },
      "source": [
        "X_train"
      ],
      "execution_count": 57,
      "outputs": [
        {
          "output_type": "execute_result",
          "data": {
            "text/plain": [
              "array([[ 4.86114213,  5.39680216, -0.19182906, ..., -0.16014078,\n",
              "         0.72030041, -0.72030041],\n",
              "       [-0.88604108, -0.677557  , -0.19182906, ..., -0.16014078,\n",
              "         0.72030041, -0.72030041],\n",
              "       [ 0.75601126,  1.34722939, -0.08896966, ..., -0.16014078,\n",
              "        -1.38830963,  1.38830963],\n",
              "       ...,\n",
              "       [-0.06501491, -0.677557  , -0.19182906, ..., -0.16014078,\n",
              "        -1.38830963,  1.38830963],\n",
              "       [-0.06501491, -0.677557  ,  0.01388973, ..., -0.16014078,\n",
              "         0.72030041, -0.72030041],\n",
              "       [ 0.34549818,  0.3348362 ,  0.11674913, ..., -0.16014078,\n",
              "        -1.38830963,  1.38830963]])"
            ]
          },
          "metadata": {
            "tags": []
          },
          "execution_count": 57
        }
      ]
    },
    {
      "cell_type": "code",
      "metadata": {
        "colab": {
          "base_uri": "https://localhost:8080/"
        },
        "id": "KZ20TPiKL5Xp",
        "outputId": "0fb5c669-9fe1-4dd3-c691-3d861859a7a5"
      },
      "source": [
        "X_test"
      ],
      "execution_count": 58,
      "outputs": [
        {
          "output_type": "execute_result",
          "data": {
            "text/plain": [
              "array([[-0.88604108, -0.677557  , -0.08896966, ..., -0.16014078,\n",
              "         0.72030041, -0.72030041],\n",
              "       [-1.29655417, -0.677557  , -0.19182906, ..., -0.16014078,\n",
              "         0.72030041, -0.72030041],\n",
              "       [-0.88604108, -0.677557  , -0.19182906, ..., -0.16014078,\n",
              "         0.72030041, -0.72030041],\n",
              "       ...,\n",
              "       [-0.88604108, -0.677557  , -0.19182906, ..., -0.16014078,\n",
              "         0.72030041, -0.72030041],\n",
              "       [-0.88604108, -0.677557  , -0.14039936, ..., -0.16014078,\n",
              "         0.72030041, -0.72030041],\n",
              "       [ 3.21908978,  1.34722939,  0.01388973, ..., -0.16014078,\n",
              "        -1.38830963,  1.38830963]])"
            ]
          },
          "metadata": {
            "tags": []
          },
          "execution_count": 58
        }
      ]
    },
    {
      "cell_type": "markdown",
      "metadata": {
        "id": "9v4X1Kh8I_bC"
      },
      "source": [
        "### Treinando um regressor XGBoost\n",
        "\n"
      ]
    },
    {
      "cell_type": "code",
      "metadata": {
        "id": "Qwzl3H0XI86B"
      },
      "source": [
        "# create a baseline\n",
        "booster = xgb.XGBRegressor()"
      ],
      "execution_count": 69,
      "outputs": []
    },
    {
      "cell_type": "code",
      "metadata": {
        "colab": {
          "base_uri": "https://localhost:8080/"
        },
        "id": "r3RiwICoJBf_",
        "outputId": "d7a1dcf0-e76a-456c-82ac-b45471f52980"
      },
      "source": [
        "from sklearn.model_selection import GridSearchCV\n",
        "\n",
        "# create Grid\n",
        "param_grid = {'n_estimators': [100, 150, 200],\n",
        "              'learning_rate': [0.01, 0.05, 0.1], \n",
        "              'max_depth': [3, 4, 5, 6, 7],\n",
        "              'colsample_bytree': [0.6, 0.7, 1],\n",
        "              'gamma': [0.0, 0.1, 0.2]}\n",
        "\n",
        "# instantiate the tuned random forest\n",
        "booster_grid_search = GridSearchCV(booster, param_grid, cv=3, n_jobs=-1)\n",
        "\n",
        "# train the tuned random forest\n",
        "booster_grid_search.fit(X_train, y_train)\n",
        "\n",
        "# print best estimator parameters found during the grid search\n",
        "print(booster_grid_search.best_params_)"
      ],
      "execution_count": 70,
      "outputs": [
        {
          "output_type": "stream",
          "text": [
            "[09:09:56] WARNING: /workspace/src/objective/regression_obj.cu:152: reg:linear is now deprecated in favor of reg:squarederror.\n",
            "{'colsample_bytree': 0.6, 'gamma': 0.0, 'learning_rate': 0.05, 'max_depth': 7, 'n_estimators': 100}\n"
          ],
          "name": "stdout"
        }
      ]
    },
    {
      "cell_type": "code",
      "metadata": {
        "colab": {
          "base_uri": "https://localhost:8080/"
        },
        "id": "RrL3uFwCJQQX",
        "outputId": "eeba30e3-44b8-4b11-9ae1-7786f2dcc189"
      },
      "source": [
        "# instantiate xgboost with best parameters\n",
        "booster = xgb.XGBRegressor(colsample_bytree=0.6, gamma=0.2, learning_rate=0.05, \n",
        "                           max_depth=7, n_estimators=200, random_state=4)    \n",
        "\n",
        "# train\n",
        "booster.fit(X_train, y_train)\n",
        "\n",
        "# predict\n",
        "y_pred_train = booster.predict(X_train)\n",
        "y_pred_test = booster.predict(X_test)"
      ],
      "execution_count": 83,
      "outputs": [
        {
          "output_type": "stream",
          "text": [
            "[09:20:33] WARNING: /workspace/src/objective/regression_obj.cu:152: reg:linear is now deprecated in favor of reg:squarederror.\n"
          ],
          "name": "stdout"
        }
      ]
    },
    {
      "cell_type": "code",
      "metadata": {
        "colab": {
          "base_uri": "https://localhost:8080/"
        },
        "id": "Zu--rpk72QTq",
        "outputId": "f17b42fc-4d96-436d-ccaa-e702ada894a9"
      },
      "source": [
        "RMSE = np.sqrt(mean_squared_error(y_test, y_pred_test))\n",
        "print(f\"RMSE: {round(RMSE, 4)}\")"
      ],
      "execution_count": 84,
      "outputs": [
        {
          "output_type": "stream",
          "text": [
            "RMSE: 427.6043\n"
          ],
          "name": "stdout"
        }
      ]
    },
    {
      "cell_type": "code",
      "metadata": {
        "colab": {
          "base_uri": "https://localhost:8080/"
        },
        "id": "0EZIreW62UZP",
        "outputId": "fcb8830b-fad8-4ee5-9c0f-38b0fa66f7dc"
      },
      "source": [
        "r2 = r2_score(y_test, y_pred_test)\n",
        "r2\n",
        "print(f\"r2: {round(r2, 4)}\")"
      ],
      "execution_count": 85,
      "outputs": [
        {
          "output_type": "stream",
          "text": [
            "r2: 0.4145\n"
          ],
          "name": "stdout"
        }
      ]
    },
    {
      "cell_type": "markdown",
      "metadata": {
        "id": "STHj1FDQ2afB"
      },
      "source": [
        "### Cross Validation\n",
        "\n"
      ]
    },
    {
      "cell_type": "code",
      "metadata": {
        "id": "0CjLBkeK2XZA"
      },
      "source": [
        "xg_train = xgb.DMatrix(data=X_train, label=y_train)"
      ],
      "execution_count": 86,
      "outputs": []
    },
    {
      "cell_type": "code",
      "metadata": {
        "id": "TJqfmh0a2qp3"
      },
      "source": [
        "params = {'colsample_bytree':0.6, 'gamma':0.2, 'learning_rate':0.05, 'max_depth':6}\n",
        "\n",
        "cv_results = xgb.cv(dtrain=xg_train, params=params, nfold=3,\n",
        "                    num_boost_round=200, early_stopping_rounds=10, \n",
        "                    metrics=\"rmse\", as_pandas=True)"
      ],
      "execution_count": 87,
      "outputs": []
    },
    {
      "cell_type": "code",
      "metadata": {
        "colab": {
          "base_uri": "https://localhost:8080/",
          "height": 204
        },
        "id": "7Q2-cQHg2tqF",
        "outputId": "26587592-e8cf-4472-f064-fbf6beaab969"
      },
      "source": [
        "cv_results.head()"
      ],
      "execution_count": 88,
      "outputs": [
        {
          "output_type": "execute_result",
          "data": {
            "text/html": [
              "<div>\n",
              "<style scoped>\n",
              "    .dataframe tbody tr th:only-of-type {\n",
              "        vertical-align: middle;\n",
              "    }\n",
              "\n",
              "    .dataframe tbody tr th {\n",
              "        vertical-align: top;\n",
              "    }\n",
              "\n",
              "    .dataframe thead th {\n",
              "        text-align: right;\n",
              "    }\n",
              "</style>\n",
              "<table border=\"1\" class=\"dataframe\">\n",
              "  <thead>\n",
              "    <tr style=\"text-align: right;\">\n",
              "      <th></th>\n",
              "      <th>train-rmse-mean</th>\n",
              "      <th>train-rmse-std</th>\n",
              "      <th>test-rmse-mean</th>\n",
              "      <th>test-rmse-std</th>\n",
              "    </tr>\n",
              "  </thead>\n",
              "  <tbody>\n",
              "    <tr>\n",
              "      <th>0</th>\n",
              "      <td>709.046082</td>\n",
              "      <td>3.227810</td>\n",
              "      <td>709.115804</td>\n",
              "      <td>6.724010</td>\n",
              "    </tr>\n",
              "    <tr>\n",
              "      <th>1</th>\n",
              "      <td>688.152771</td>\n",
              "      <td>2.766509</td>\n",
              "      <td>688.473836</td>\n",
              "      <td>6.749577</td>\n",
              "    </tr>\n",
              "    <tr>\n",
              "      <th>2</th>\n",
              "      <td>669.157166</td>\n",
              "      <td>2.934801</td>\n",
              "      <td>669.640869</td>\n",
              "      <td>6.677341</td>\n",
              "    </tr>\n",
              "    <tr>\n",
              "      <th>3</th>\n",
              "      <td>650.862040</td>\n",
              "      <td>3.214903</td>\n",
              "      <td>651.658223</td>\n",
              "      <td>6.150206</td>\n",
              "    </tr>\n",
              "    <tr>\n",
              "      <th>4</th>\n",
              "      <td>635.205688</td>\n",
              "      <td>3.934146</td>\n",
              "      <td>636.414022</td>\n",
              "      <td>5.831232</td>\n",
              "    </tr>\n",
              "  </tbody>\n",
              "</table>\n",
              "</div>"
            ],
            "text/plain": [
              "   train-rmse-mean  train-rmse-std  test-rmse-mean  test-rmse-std\n",
              "0       709.046082        3.227810      709.115804       6.724010\n",
              "1       688.152771        2.766509      688.473836       6.749577\n",
              "2       669.157166        2.934801      669.640869       6.677341\n",
              "3       650.862040        3.214903      651.658223       6.150206\n",
              "4       635.205688        3.934146      636.414022       5.831232"
            ]
          },
          "metadata": {
            "tags": []
          },
          "execution_count": 88
        }
      ]
    },
    {
      "cell_type": "code",
      "metadata": {
        "colab": {
          "base_uri": "https://localhost:8080/",
          "height": 204
        },
        "id": "MkEjzqDi22ko",
        "outputId": "fc8820c3-b08e-4282-a551-b30210eeb6f0"
      },
      "source": [
        "cv_results.tail()"
      ],
      "execution_count": 89,
      "outputs": [
        {
          "output_type": "execute_result",
          "data": {
            "text/html": [
              "<div>\n",
              "<style scoped>\n",
              "    .dataframe tbody tr th:only-of-type {\n",
              "        vertical-align: middle;\n",
              "    }\n",
              "\n",
              "    .dataframe tbody tr th {\n",
              "        vertical-align: top;\n",
              "    }\n",
              "\n",
              "    .dataframe thead th {\n",
              "        text-align: right;\n",
              "    }\n",
              "</style>\n",
              "<table border=\"1\" class=\"dataframe\">\n",
              "  <thead>\n",
              "    <tr style=\"text-align: right;\">\n",
              "      <th></th>\n",
              "      <th>train-rmse-mean</th>\n",
              "      <th>train-rmse-std</th>\n",
              "      <th>test-rmse-mean</th>\n",
              "      <th>test-rmse-std</th>\n",
              "    </tr>\n",
              "  </thead>\n",
              "  <tbody>\n",
              "    <tr>\n",
              "      <th>136</th>\n",
              "      <td>386.397339</td>\n",
              "      <td>1.127303</td>\n",
              "      <td>432.509349</td>\n",
              "      <td>5.184581</td>\n",
              "    </tr>\n",
              "    <tr>\n",
              "      <th>137</th>\n",
              "      <td>386.213318</td>\n",
              "      <td>1.168311</td>\n",
              "      <td>432.505799</td>\n",
              "      <td>5.194303</td>\n",
              "    </tr>\n",
              "    <tr>\n",
              "      <th>138</th>\n",
              "      <td>386.143494</td>\n",
              "      <td>1.179209</td>\n",
              "      <td>432.528168</td>\n",
              "      <td>5.191531</td>\n",
              "    </tr>\n",
              "    <tr>\n",
              "      <th>139</th>\n",
              "      <td>386.038727</td>\n",
              "      <td>1.217688</td>\n",
              "      <td>432.511902</td>\n",
              "      <td>5.209537</td>\n",
              "    </tr>\n",
              "    <tr>\n",
              "      <th>140</th>\n",
              "      <td>385.726471</td>\n",
              "      <td>1.215932</td>\n",
              "      <td>432.500478</td>\n",
              "      <td>5.190089</td>\n",
              "    </tr>\n",
              "  </tbody>\n",
              "</table>\n",
              "</div>"
            ],
            "text/plain": [
              "     train-rmse-mean  train-rmse-std  test-rmse-mean  test-rmse-std\n",
              "136       386.397339        1.127303      432.509349       5.184581\n",
              "137       386.213318        1.168311      432.505799       5.194303\n",
              "138       386.143494        1.179209      432.528168       5.191531\n",
              "139       386.038727        1.217688      432.511902       5.209537\n",
              "140       385.726471        1.215932      432.500478       5.190089"
            ]
          },
          "metadata": {
            "tags": []
          },
          "execution_count": 89
        }
      ]
    },
    {
      "cell_type": "markdown",
      "metadata": {
        "id": "7MO2-_Vc3Gv2"
      },
      "source": [
        "### Interpretaçao dos resultados"
      ]
    },
    {
      "cell_type": "code",
      "metadata": {
        "colab": {
          "base_uri": "https://localhost:8080/",
          "height": 334
        },
        "id": "H-jkn0hX26dk",
        "outputId": "ddeb3d07-44a6-48f8-ab83-974a34cdad6a"
      },
      "source": [
        "# plot the important features\n",
        "feat_importances = pd.Series(booster.feature_importances_, index=features_recoded.columns)\n",
        "feat_importances.nlargest(15).sort_values().plot(kind='barh', color='darkgrey', figsize=(10,5))\n",
        "plt.xlabel('Relative Feature Importance with XGBoost');"
      ],
      "execution_count": 78,
      "outputs": [
        {
          "output_type": "display_data",
          "data": {
            "image/png": "[encoded data removed]",
            "text/plain": [
              "<Figure size 720x360 with 1 Axes>"
            ]
          },
          "metadata": {
            "tags": [],
            "needs_background": "light"
          }
        }
      ]
    },
    {
      "cell_type": "code",
      "metadata": {
        "id": "ZFRe_qfc3Kab"
      },
      "source": [
        ""
      ],
      "execution_count": null,
      "outputs": []
    }
  ]
}